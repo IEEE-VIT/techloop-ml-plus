{
 "cells": [
  {
   "cell_type": "code",
   "execution_count": 2,
   "metadata": {
    "collapsed": true
   },
   "outputs": [],
   "source": [
    "import numpy as np"
   ]
  },
  {
   "cell_type": "code",
   "execution_count": 86,
   "metadata": {
    "collapsed": true
   },
   "outputs": [],
   "source": [
    "#Import data\n",
    "x = np.array([17,23,31,21,20,21,24,22,31,41,26,21,33,38,16,27,28,17,17]) #Temperature in Celcius [INPUT]\n",
    "y = np.array([1,1,0,1,1,1,0,0,0,0,0,1,0,0,1,1,0,1,1]) # 1 = It rained ; 0 = it didn't rain [ OUTPUT]"
   ]
  },
  {
   "cell_type": "code",
   "execution_count": 87,
   "metadata": {
    "collapsed": true
   },
   "outputs": [],
   "source": [
    "#Sigmoid Function\n",
    "def sig(z):\n",
    "    return 1 / (1 + np.exp(-z))"
   ]
  },
  {
   "cell_type": "code",
   "execution_count": 88,
   "metadata": {
    "collapsed": true
   },
   "outputs": [],
   "source": [
    "learning_rate = 0.001"
   ]
  },
  {
   "cell_type": "code",
   "execution_count": 91,
   "metadata": {
    "collapsed": true
   },
   "outputs": [],
   "source": [
    "def gradientDes(x,y,val):  #Val is the value of Temperature in celcius for which we have to determine if it rained or no\n",
    "    t1 = 0\n",
    "    t2 = 0\n",
    "    for i in range(1000):\n",
    "        gradient1 = 0\n",
    "        gradient2 = 0\n",
    "        for j in range(len(x)):\n",
    "            gradient1 = gradient1 + ((sig(t1+t2*x[j]) - y[j]) * x[j])\n",
    "            gradient2 = gradient2 + ((sig(t1+t2*x[j]) - y[j]))\n",
    "        gradient1 = gradient1 / len(x)\n",
    "        gradient2 = gradient2/ len(x)\n",
    "        t1 = t1 - (learning_rate * gradient1)\n",
    "        t2 = t2 - (learning_rate * gradient2)\n",
    "    return sig(t1 + (t2 * val))"
   ]
  },
  {
   "cell_type": "code",
   "execution_count": 96,
   "metadata": {},
   "outputs": [
    {
     "name": "stdout",
     "output_type": "stream",
     "text": [
      "Enter the temperature in celcius: 14\n",
      "There is a 36.0% chance that it will rain\n"
     ]
    }
   ],
   "source": [
    "a = int(input('Enter the temperature in celcius: '))\n",
    "print('There is a '+str(round(gradientDes(x,y,a)*100))+ '% chance that it will rain')"
   ]
  },
  {
   "cell_type": "code",
   "execution_count": 98,
   "metadata": {
    "collapsed": true
   },
   "outputs": [],
   "source": [
    "#The accuracy of predictions depends on the amount of data given. \n",
    "#Because I've given less data, the accuracy is less."
   ]
  },
  {
   "cell_type": "code",
   "execution_count": null,
   "metadata": {
    "collapsed": true
   },
   "outputs": [],
   "source": []
  }
 ],
 "metadata": {
  "kernelspec": {
   "display_name": "Python 3",
   "language": "python",
   "name": "python3"
  },
  "language_info": {
   "codemirror_mode": {
    "name": "ipython",
    "version": 3
   },
   "file_extension": ".py",
   "mimetype": "text/x-python",
   "name": "python",
   "nbconvert_exporter": "python",
   "pygments_lexer": "ipython3",
   "version": "3.6.1"
  }
 },
 "nbformat": 4,
 "nbformat_minor": 2
}
